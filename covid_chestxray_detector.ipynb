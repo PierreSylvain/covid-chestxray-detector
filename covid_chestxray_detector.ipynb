{
  "nbformat": 4,
  "nbformat_minor": 0,
  "metadata": {
    "colab": {
      "name": "covid-chestxray-detector.ipynb",
      "provenance": [],
      "authorship_tag": "ABX9TyPWGrRAwIoMhBpwAJa0/Xwi",
      "include_colab_link": true
    },
    "kernelspec": {
      "name": "python3",
      "display_name": "Python 3"
    },
    "accelerator": "GPU"
  },
  "cells": [
    {
      "cell_type": "markdown",
      "metadata": {
        "id": "view-in-github",
        "colab_type": "text"
      },
      "source": [
        "<a href=\"https://colab.research.google.com/github/PierreSylvain/covid-chestxray-detector/blob/master/covid_chestxray_detector.ipynb\" target=\"_parent\"><img src=\"https://colab.research.google.com/assets/colab-badge.svg\" alt=\"Open In Colab\"/></a>"
      ]
    },
    {
      "cell_type": "code",
      "metadata": {
        "id": "wldKi0o-vIlE",
        "colab_type": "code",
        "colab": {
          "base_uri": "https://localhost:8080/",
          "height": 34
        },
        "outputId": "98718b47-122d-4489-ad58-24782c5a4a1c"
      },
      "source": [
        "%tensorflow_version 2.x\n",
        "import tensorflow as tf\n",
        "device_name = tf.test.gpu_device_name()\n",
        "if device_name != '/device:GPU:0':\n",
        "  raise SystemError('GPU device not found')\n",
        "print('Found GPU at: {}'.format(device_name))"
      ],
      "execution_count": 1,
      "outputs": [
        {
          "output_type": "stream",
          "text": [
            "Found GPU at: /device:GPU:0\n"
          ],
          "name": "stdout"
        }
      ]
    },
    {
      "cell_type": "markdown",
      "metadata": {
        "id": "A-sPrQuIzRie",
        "colab_type": "text"
      },
      "source": [
        "# Load images"
      ]
    },
    {
      "cell_type": "code",
      "metadata": {
        "id": "p_JlabOuvYaj",
        "colab_type": "code",
        "colab": {
          "base_uri": "https://localhost:8080/",
          "height": 225
        },
        "outputId": "ce7433b2-ebce-47ac-9357-04695620617e"
      },
      "source": [
        "# Load zipped  images directory and decompress into data folder\n",
        "!wget https://filedn.com/lvsbt6znCCkhw76TPAmL9PL/data.zip\n",
        "!unzip -q -o /content/data.zip\n",
        "!ls /content/data/train "
      ],
      "execution_count": 2,
      "outputs": [
        {
          "output_type": "stream",
          "text": [
            "--2020-05-30 08:46:07--  https://filedn.com/lvsbt6znCCkhw76TPAmL9PL/data.zip\n",
            "Resolving filedn.com (filedn.com)... 74.120.9.25\n",
            "Connecting to filedn.com (filedn.com)|74.120.9.25|:443... connected.\n",
            "HTTP request sent, awaiting response... 200 OK\n",
            "Length: 166593773 (159M) [application/zip]\n",
            "Saving to: ‘data.zip’\n",
            "\n",
            "data.zip            100%[===================>] 158.88M  44.9MB/s    in 6.5s    \n",
            "\n",
            "2020-05-30 08:46:14 (24.5 MB/s) - ‘data.zip’ saved [166593773/166593773]\n",
            "\n",
            "0_normal  1_covid\n"
          ],
          "name": "stdout"
        }
      ]
    },
    {
      "cell_type": "markdown",
      "metadata": {
        "id": "-6xAzBACzXpd",
        "colab_type": "text"
      },
      "source": [
        "# Load libraries"
      ]
    },
    {
      "cell_type": "code",
      "metadata": {
        "id": "69djlfDPwmn4",
        "colab_type": "code",
        "colab": {}
      },
      "source": [
        "# Load libraries\n",
        "import os\n",
        "import re\n",
        "import numpy as np \n",
        "import pandas as pd \n",
        "import matplotlib.pyplot as plt\n",
        "#import random\n",
        "\n",
        "# Keras\n",
        "#import keras\n",
        "#from keras.utils import to_categorical\n",
        "#from keras.models import Sequential\n",
        "\n",
        "#from keras.layers import Conv2D\n",
        "#from keras.layers import MaxPooling2D\n",
        "from keras.layers import Dense\n",
        "#from keras.layers import Activation\n",
        "from keras.layers import Flatten\n",
        "#from keras.layers import MaxPool2D\n",
        "#from keras.layers import Dense, GlobalAveragePooling2D\n",
        "from keras.layers import AveragePooling2D\n",
        "from keras.layers import Dropout\n",
        "\n",
        "\n",
        "from keras.optimizers import SGD\n",
        "#from keras.optimizers import Adam\n",
        "\n",
        "from keras.preprocessing.image import ImageDataGenerator\n",
        "\n",
        "from keras.models import Model\n",
        "#from keras.applications.vgg16 import VGG16\n",
        "from keras.applications.vgg19 import VGG19\n",
        "#from tensorflow.keras.applications.inception_v3 import InceptionV3\n",
        "\n",
        "#from keras.callbacks import ModelCheckpoint, EarlyStopping\n",
        "from sklearn.metrics import confusion_matrix, classification_report\n",
        "\n",
        "import warnings\n",
        "warnings.filterwarnings('ignore')\n"
      ],
      "execution_count": 0,
      "outputs": []
    },
    {
      "cell_type": "markdown",
      "metadata": {
        "id": "fvHnJeFjzdxc",
        "colab_type": "text"
      },
      "source": [
        "# Create model"
      ]
    },
    {
      "cell_type": "code",
      "metadata": {
        "id": "jDtAEs3bw2K0",
        "colab_type": "code",
        "colab": {}
      },
      "source": [
        "# Create data generator\n",
        "# One for train data and other for val and test\n",
        "def data_generator():\n",
        "  datagen = ImageDataGenerator(\n",
        "    rescale= 1 / 255.0,\n",
        "    rotation_range=15,\n",
        "    zoom_range=0.05,\n",
        "    width_shift_range=0.1,\n",
        "    height_shift_range=0.1,\n",
        "    shear_range=0.05,\n",
        "    fill_mode=\"nearest\")  \n",
        "  return  datagen\n",
        "\n",
        "def data_generator_basic():\n",
        "  datagen = ImageDataGenerator(rescale= 1 / 255.0)  \n",
        "  return  datagen "
      ],
      "execution_count": 0,
      "outputs": []
    },
    {
      "cell_type": "code",
      "metadata": {
        "id": "68A1BmUmxECJ",
        "colab_type": "code",
        "colab": {}
      },
      "source": [
        "# VGG19 Model\n",
        "def vgg_model(image_width, image_height):\n",
        "  vgg_model = VGG19(include_top=False, input_shape=(image_width, image_height, 3))\n",
        "  \n",
        "  for layer in vgg_model.layers[:-3]:\n",
        "    layer.trainable = False\n",
        "\n",
        "  avg = AveragePooling2D(pool_size=(4, 4))(vgg_model.layers[-1].output)\n",
        "  flat1 = Flatten()(avg)\n",
        "  \n",
        "  class1 = Dense(128, activation='relu', kernel_initializer='he_uniform')(flat1) \n",
        "  dropout1 = Dropout(0.5)(class1)  \n",
        "  \n",
        "  output = Dense(1, activation='sigmoid')(dropout1)\n",
        "  \n",
        "  model = Model(inputs=vgg_model.inputs, outputs=output)\n",
        "  opt = SGD(lr=0.001, momentum=0.9)  \n",
        "  model.compile(optimizer=opt, loss='binary_crossentropy', metrics=['accuracy'])\n",
        "\n",
        "  #model.summary()\n",
        "  return model"
      ],
      "execution_count": 0,
      "outputs": []
    },
    {
      "cell_type": "markdown",
      "metadata": {
        "id": "1qF5vriMzkpP",
        "colab_type": "text"
      },
      "source": [
        "# Train model"
      ]
    },
    {
      "cell_type": "code",
      "metadata": {
        "id": "mD1aSEWYxV5T",
        "colab_type": "code",
        "colab": {
          "base_uri": "https://localhost:8080/",
          "height": 1000
        },
        "outputId": "1ce16511-8122-4dca-f121-7bba97952c4b"
      },
      "source": [
        "# Train model\n",
        "nb_epochs = 80\n",
        "image_width = 320\n",
        "image_height = 382\n",
        "train_dir = \"/content/data/train\"\n",
        "test_dir = \"/content/data/test\"\n",
        "\n",
        "model = vgg_model(image_width,image_height)\n",
        "\n",
        "datagen = data_generator()\n",
        "datagen_basic = data_generator_basic()\n",
        "\n",
        "# Prepare\n",
        "train = datagen.flow_from_directory(train_dir, class_mode='binary', batch_size=64, target_size=(image_width, image_height))\n",
        "val = datagen_basic.flow_from_directory( test_dir,  class_mode='binary', batch_size=64, target_size=(image_width, image_height))\n",
        "\n",
        "# Train model\n",
        "history = model.fit_generator(\n",
        "    train, \n",
        "    steps_per_epoch=len(train), \n",
        "    validation_data=val, \n",
        "    validation_steps=len(val), \n",
        "    epochs=nb_epochs,    \n",
        "    verbose=1)\n",
        "\n",
        "# Save model \n",
        "model.save('VGG-covid19.h5')\n",
        "\n",
        "# Evaluate\n",
        "_, acc = model.evaluate_generator(val, steps=len(val), verbose=1)\n",
        "print('Model accuracy %.3f' % (acc * 100.0))\n"
      ],
      "execution_count": 35,
      "outputs": [
        {
          "output_type": "stream",
          "text": [
            "Found 216 images belonging to 2 classes.\n",
            "Found 55 images belonging to 2 classes.\n",
            "Epoch 1/80\n",
            "4/4 [==============================] - 14s 3s/step - loss: 0.9591 - accuracy: 0.5324 - val_loss: 0.6687 - val_accuracy: 0.6909\n",
            "Epoch 2/80\n",
            "4/4 [==============================] - 12s 3s/step - loss: 0.7542 - accuracy: 0.5741 - val_loss: 0.6652 - val_accuracy: 0.6000\n",
            "Epoch 3/80\n",
            "4/4 [==============================] - 13s 3s/step - loss: 0.7504 - accuracy: 0.5324 - val_loss: 0.6115 - val_accuracy: 0.7455\n",
            "Epoch 4/80\n",
            "4/4 [==============================] - 13s 3s/step - loss: 0.6548 - accuracy: 0.5926 - val_loss: 0.7254 - val_accuracy: 0.4000\n",
            "Epoch 5/80\n",
            "4/4 [==============================] - 12s 3s/step - loss: 0.6883 - accuracy: 0.6019 - val_loss: 0.6503 - val_accuracy: 0.6000\n",
            "Epoch 6/80\n",
            "4/4 [==============================] - 13s 3s/step - loss: 0.6203 - accuracy: 0.6065 - val_loss: 0.5549 - val_accuracy: 0.7455\n",
            "Epoch 7/80\n",
            "4/4 [==============================] - 12s 3s/step - loss: 0.6105 - accuracy: 0.6204 - val_loss: 0.5367 - val_accuracy: 0.7455\n",
            "Epoch 8/80\n",
            "4/4 [==============================] - 13s 3s/step - loss: 0.5832 - accuracy: 0.7037 - val_loss: 0.5269 - val_accuracy: 0.8182\n",
            "Epoch 9/80\n",
            "4/4 [==============================] - 12s 3s/step - loss: 0.5545 - accuracy: 0.7500 - val_loss: 0.5300 - val_accuracy: 0.8182\n",
            "Epoch 10/80\n",
            "4/4 [==============================] - 12s 3s/step - loss: 0.5472 - accuracy: 0.7546 - val_loss: 0.4926 - val_accuracy: 0.8182\n",
            "Epoch 11/80\n",
            "4/4 [==============================] - 12s 3s/step - loss: 0.4964 - accuracy: 0.7963 - val_loss: 0.4755 - val_accuracy: 0.8000\n",
            "Epoch 12/80\n",
            "4/4 [==============================] - 12s 3s/step - loss: 0.5108 - accuracy: 0.7778 - val_loss: 0.4647 - val_accuracy: 0.8182\n",
            "Epoch 13/80\n",
            "4/4 [==============================] - 12s 3s/step - loss: 0.4932 - accuracy: 0.7917 - val_loss: 0.4561 - val_accuracy: 0.8182\n",
            "Epoch 14/80\n",
            "4/4 [==============================] - 12s 3s/step - loss: 0.4672 - accuracy: 0.8102 - val_loss: 0.4479 - val_accuracy: 0.8182\n",
            "Epoch 15/80\n",
            "4/4 [==============================] - 13s 3s/step - loss: 0.4561 - accuracy: 0.8148 - val_loss: 0.4423 - val_accuracy: 0.7818\n",
            "Epoch 16/80\n",
            "4/4 [==============================] - 12s 3s/step - loss: 0.4698 - accuracy: 0.8148 - val_loss: 0.4394 - val_accuracy: 0.7818\n",
            "Epoch 17/80\n",
            "4/4 [==============================] - 12s 3s/step - loss: 0.4989 - accuracy: 0.8056 - val_loss: 0.4338 - val_accuracy: 0.8000\n",
            "Epoch 18/80\n",
            "4/4 [==============================] - 12s 3s/step - loss: 0.4703 - accuracy: 0.7593 - val_loss: 0.4290 - val_accuracy: 0.8182\n",
            "Epoch 19/80\n",
            "4/4 [==============================] - 12s 3s/step - loss: 0.4619 - accuracy: 0.8102 - val_loss: 0.4193 - val_accuracy: 0.7818\n",
            "Epoch 20/80\n",
            "4/4 [==============================] - 12s 3s/step - loss: 0.4474 - accuracy: 0.8287 - val_loss: 0.4187 - val_accuracy: 0.7818\n",
            "Epoch 21/80\n",
            "4/4 [==============================] - 12s 3s/step - loss: 0.4199 - accuracy: 0.8426 - val_loss: 0.4147 - val_accuracy: 0.7818\n",
            "Epoch 22/80\n",
            "4/4 [==============================] - 12s 3s/step - loss: 0.4411 - accuracy: 0.8426 - val_loss: 0.4094 - val_accuracy: 0.7818\n",
            "Epoch 23/80\n",
            "4/4 [==============================] - 13s 3s/step - loss: 0.4108 - accuracy: 0.8380 - val_loss: 0.4067 - val_accuracy: 0.8000\n",
            "Epoch 24/80\n",
            "4/4 [==============================] - 12s 3s/step - loss: 0.4376 - accuracy: 0.8009 - val_loss: 0.4034 - val_accuracy: 0.7818\n",
            "Epoch 25/80\n",
            "4/4 [==============================] - 12s 3s/step - loss: 0.4410 - accuracy: 0.8333 - val_loss: 0.4006 - val_accuracy: 0.7818\n",
            "Epoch 26/80\n",
            "4/4 [==============================] - 12s 3s/step - loss: 0.4219 - accuracy: 0.8333 - val_loss: 0.4001 - val_accuracy: 0.8000\n",
            "Epoch 27/80\n",
            "4/4 [==============================] - 12s 3s/step - loss: 0.4384 - accuracy: 0.8380 - val_loss: 0.3968 - val_accuracy: 0.7818\n",
            "Epoch 28/80\n",
            "4/4 [==============================] - 12s 3s/step - loss: 0.4266 - accuracy: 0.8380 - val_loss: 0.3960 - val_accuracy: 0.8000\n",
            "Epoch 29/80\n",
            "4/4 [==============================] - 12s 3s/step - loss: 0.4169 - accuracy: 0.8611 - val_loss: 0.3951 - val_accuracy: 0.8182\n",
            "Epoch 30/80\n",
            "4/4 [==============================] - 12s 3s/step - loss: 0.4058 - accuracy: 0.8472 - val_loss: 0.3924 - val_accuracy: 0.8000\n",
            "Epoch 31/80\n",
            "4/4 [==============================] - 12s 3s/step - loss: 0.3967 - accuracy: 0.8519 - val_loss: 0.3881 - val_accuracy: 0.7818\n",
            "Epoch 32/80\n",
            "4/4 [==============================] - 12s 3s/step - loss: 0.3937 - accuracy: 0.8472 - val_loss: 0.3857 - val_accuracy: 0.7818\n",
            "Epoch 33/80\n",
            "4/4 [==============================] - 12s 3s/step - loss: 0.3784 - accuracy: 0.8611 - val_loss: 0.3817 - val_accuracy: 0.8000\n",
            "Epoch 34/80\n",
            "4/4 [==============================] - 12s 3s/step - loss: 0.3662 - accuracy: 0.8657 - val_loss: 0.3838 - val_accuracy: 0.8000\n",
            "Epoch 35/80\n",
            "4/4 [==============================] - 13s 3s/step - loss: 0.3738 - accuracy: 0.8472 - val_loss: 0.3792 - val_accuracy: 0.8182\n",
            "Epoch 36/80\n",
            "4/4 [==============================] - 12s 3s/step - loss: 0.3527 - accuracy: 0.8704 - val_loss: 0.3754 - val_accuracy: 0.7818\n",
            "Epoch 37/80\n",
            "4/4 [==============================] - 12s 3s/step - loss: 0.3634 - accuracy: 0.8611 - val_loss: 0.3741 - val_accuracy: 0.8000\n",
            "Epoch 38/80\n",
            "4/4 [==============================] - 12s 3s/step - loss: 0.3084 - accuracy: 0.8750 - val_loss: 0.3838 - val_accuracy: 0.8000\n",
            "Epoch 39/80\n",
            "4/4 [==============================] - 12s 3s/step - loss: 0.3590 - accuracy: 0.8796 - val_loss: 0.3892 - val_accuracy: 0.8000\n",
            "Epoch 40/80\n",
            "4/4 [==============================] - 12s 3s/step - loss: 0.3501 - accuracy: 0.8657 - val_loss: 0.3717 - val_accuracy: 0.8000\n",
            "Epoch 41/80\n",
            "4/4 [==============================] - 12s 3s/step - loss: 0.3535 - accuracy: 0.8565 - val_loss: 0.3696 - val_accuracy: 0.8000\n",
            "Epoch 42/80\n",
            "4/4 [==============================] - 12s 3s/step - loss: 0.3555 - accuracy: 0.8519 - val_loss: 0.3685 - val_accuracy: 0.8000\n",
            "Epoch 43/80\n",
            "4/4 [==============================] - 12s 3s/step - loss: 0.3431 - accuracy: 0.8565 - val_loss: 0.3734 - val_accuracy: 0.8000\n",
            "Epoch 44/80\n",
            "4/4 [==============================] - 12s 3s/step - loss: 0.3559 - accuracy: 0.8657 - val_loss: 0.3739 - val_accuracy: 0.8000\n",
            "Epoch 45/80\n",
            "4/4 [==============================] - 12s 3s/step - loss: 0.3303 - accuracy: 0.8565 - val_loss: 0.3634 - val_accuracy: 0.7818\n",
            "Epoch 46/80\n",
            "4/4 [==============================] - 12s 3s/step - loss: 0.3242 - accuracy: 0.8657 - val_loss: 0.3635 - val_accuracy: 0.7818\n",
            "Epoch 47/80\n",
            "4/4 [==============================] - 12s 3s/step - loss: 0.3069 - accuracy: 0.8981 - val_loss: 0.3634 - val_accuracy: 0.7818\n",
            "Epoch 48/80\n",
            "4/4 [==============================] - 12s 3s/step - loss: 0.3276 - accuracy: 0.8750 - val_loss: 0.3716 - val_accuracy: 0.8000\n",
            "Epoch 49/80\n",
            "4/4 [==============================] - 12s 3s/step - loss: 0.3025 - accuracy: 0.8843 - val_loss: 0.3638 - val_accuracy: 0.7818\n",
            "Epoch 50/80\n",
            "4/4 [==============================] - 12s 3s/step - loss: 0.2892 - accuracy: 0.8657 - val_loss: 0.3617 - val_accuracy: 0.7818\n",
            "Epoch 51/80\n",
            "4/4 [==============================] - 12s 3s/step - loss: 0.3375 - accuracy: 0.8796 - val_loss: 0.3748 - val_accuracy: 0.8000\n",
            "Epoch 52/80\n",
            "4/4 [==============================] - 12s 3s/step - loss: 0.2949 - accuracy: 0.8796 - val_loss: 0.3676 - val_accuracy: 0.8000\n",
            "Epoch 53/80\n",
            "4/4 [==============================] - 12s 3s/step - loss: 0.3146 - accuracy: 0.8519 - val_loss: 0.3627 - val_accuracy: 0.8182\n",
            "Epoch 54/80\n",
            "4/4 [==============================] - 12s 3s/step - loss: 0.3116 - accuracy: 0.8796 - val_loss: 0.3812 - val_accuracy: 0.8182\n",
            "Epoch 55/80\n",
            "4/4 [==============================] - 12s 3s/step - loss: 0.2780 - accuracy: 0.8704 - val_loss: 0.3710 - val_accuracy: 0.8000\n",
            "Epoch 56/80\n",
            "4/4 [==============================] - 13s 3s/step - loss: 0.3164 - accuracy: 0.8611 - val_loss: 0.3613 - val_accuracy: 0.8182\n",
            "Epoch 57/80\n",
            "4/4 [==============================] - 12s 3s/step - loss: 0.3053 - accuracy: 0.8889 - val_loss: 0.3803 - val_accuracy: 0.8000\n",
            "Epoch 58/80\n",
            "4/4 [==============================] - 12s 3s/step - loss: 0.2933 - accuracy: 0.8796 - val_loss: 0.3679 - val_accuracy: 0.8000\n",
            "Epoch 59/80\n",
            "4/4 [==============================] - 12s 3s/step - loss: 0.3091 - accuracy: 0.8750 - val_loss: 0.3720 - val_accuracy: 0.8000\n",
            "Epoch 60/80\n",
            "4/4 [==============================] - 12s 3s/step - loss: 0.3050 - accuracy: 0.8704 - val_loss: 0.3654 - val_accuracy: 0.8182\n",
            "Epoch 61/80\n",
            "4/4 [==============================] - 12s 3s/step - loss: 0.2825 - accuracy: 0.8843 - val_loss: 0.3733 - val_accuracy: 0.8000\n",
            "Epoch 62/80\n",
            "4/4 [==============================] - 12s 3s/step - loss: 0.2777 - accuracy: 0.8889 - val_loss: 0.3879 - val_accuracy: 0.8182\n",
            "Epoch 63/80\n",
            "4/4 [==============================] - 12s 3s/step - loss: 0.2799 - accuracy: 0.8935 - val_loss: 0.3722 - val_accuracy: 0.8000\n",
            "Epoch 64/80\n",
            "4/4 [==============================] - 13s 3s/step - loss: 0.2909 - accuracy: 0.8935 - val_loss: 0.3628 - val_accuracy: 0.8182\n",
            "Epoch 65/80\n",
            "4/4 [==============================] - 12s 3s/step - loss: 0.2915 - accuracy: 0.8843 - val_loss: 0.3716 - val_accuracy: 0.8000\n",
            "Epoch 66/80\n",
            "4/4 [==============================] - 12s 3s/step - loss: 0.2846 - accuracy: 0.8889 - val_loss: 0.3957 - val_accuracy: 0.8182\n",
            "Epoch 67/80\n",
            "4/4 [==============================] - 13s 3s/step - loss: 0.3007 - accuracy: 0.8796 - val_loss: 0.3630 - val_accuracy: 0.8000\n",
            "Epoch 68/80\n",
            "4/4 [==============================] - 12s 3s/step - loss: 0.2752 - accuracy: 0.9028 - val_loss: 0.3703 - val_accuracy: 0.8182\n",
            "Epoch 69/80\n",
            "4/4 [==============================] - 12s 3s/step - loss: 0.2742 - accuracy: 0.8750 - val_loss: 0.3766 - val_accuracy: 0.8000\n",
            "Epoch 70/80\n",
            "4/4 [==============================] - 12s 3s/step - loss: 0.2756 - accuracy: 0.9074 - val_loss: 0.3681 - val_accuracy: 0.8182\n",
            "Epoch 71/80\n",
            "4/4 [==============================] - 12s 3s/step - loss: 0.2508 - accuracy: 0.9120 - val_loss: 0.3773 - val_accuracy: 0.8182\n",
            "Epoch 72/80\n",
            "4/4 [==============================] - 13s 3s/step - loss: 0.2599 - accuracy: 0.8981 - val_loss: 0.3672 - val_accuracy: 0.8182\n",
            "Epoch 73/80\n",
            "4/4 [==============================] - 12s 3s/step - loss: 0.2429 - accuracy: 0.9120 - val_loss: 0.3694 - val_accuracy: 0.8182\n",
            "Epoch 74/80\n",
            "4/4 [==============================] - 13s 3s/step - loss: 0.2533 - accuracy: 0.8981 - val_loss: 0.3792 - val_accuracy: 0.8182\n",
            "Epoch 75/80\n",
            "4/4 [==============================] - 12s 3s/step - loss: 0.2636 - accuracy: 0.9028 - val_loss: 0.3728 - val_accuracy: 0.8182\n",
            "Epoch 76/80\n",
            "4/4 [==============================] - 13s 3s/step - loss: 0.2251 - accuracy: 0.9120 - val_loss: 0.3826 - val_accuracy: 0.8182\n",
            "Epoch 77/80\n",
            "4/4 [==============================] - 13s 3s/step - loss: 0.2564 - accuracy: 0.8889 - val_loss: 0.3809 - val_accuracy: 0.8182\n",
            "Epoch 78/80\n",
            "4/4 [==============================] - 13s 3s/step - loss: 0.2460 - accuracy: 0.8935 - val_loss: 0.3784 - val_accuracy: 0.8364\n",
            "Epoch 79/80\n",
            "4/4 [==============================] - 13s 3s/step - loss: 0.2579 - accuracy: 0.9120 - val_loss: 0.3667 - val_accuracy: 0.7818\n",
            "Epoch 80/80\n",
            "4/4 [==============================] - 12s 3s/step - loss: 0.2507 - accuracy: 0.8935 - val_loss: 0.3894 - val_accuracy: 0.8364\n",
            "1/1 [==============================] - 4s 4s/step\n",
            "Model accuracy 83.636\n"
          ],
          "name": "stdout"
        }
      ]
    },
    {
      "cell_type": "code",
      "metadata": {
        "id": "jeXJmBEcx5xs",
        "colab_type": "code",
        "colab": {
          "base_uri": "https://localhost:8080/",
          "height": 295
        },
        "outputId": "b107c74b-9b38-4050-9dc5-ba7d67ad23d2"
      },
      "source": [
        "# Training Loss and Accuracy visualization\n",
        "plt.figure()\n",
        "plt.plot(np.arange(0, nb_epochs), history.history[\"loss\"], label=\"train_loss\")\n",
        "plt.plot(np.arange(0, nb_epochs), history.history[\"val_loss\"], label=\"val_loss\")\n",
        "plt.plot(np.arange(0, nb_epochs), history.history[\"accuracy\"], label=\"train_accuracy\")\n",
        "plt.plot(np.arange(0, nb_epochs), history.history[\"val_accuracy\"], label=\"val_accuracy\")\n",
        "plt.title(\"Training Loss and Accuracy on COVID-19 Dataset\")\n",
        "plt.xlabel(\"Epoch #\")\n",
        "plt.ylabel(\"Loss/Accuracy\")\n",
        "plt.legend(loc=\"lower left\")\n",
        "plt.show()"
      ],
      "execution_count": 36,
      "outputs": [
        {
          "output_type": "display_data",
          "data": {
            "image/png": "[encoded data removed]",
            "text/plain": [
              "<Figure size 432x288 with 1 Axes>"
            ]
          },
          "metadata": {
            "tags": [],
            "needs_background": "light"
          }
        }
      ]
    },
    {
      "cell_type": "markdown",
      "metadata": {
        "id": "bCEn-bJU5PyN",
        "colab_type": "text"
      },
      "source": [
        "# Make predictions"
      ]
    },
    {
      "cell_type": "code",
      "metadata": {
        "id": "cW3oM99m5Suv",
        "colab_type": "code",
        "colab": {
          "base_uri": "https://localhost:8080/",
          "height": 34
        },
        "outputId": "2213bf1b-cf02-49e9-cb61-d696af262978"
      },
      "source": [
        "pred_dir = \"/content/data\"\n",
        "\n",
        "# load model\n",
        "#model = load_model('VGG-covid19.h5')\n",
        "\n",
        "y_preds = []\n",
        "ys = []\n",
        "\n",
        "# Make prediction \n",
        "datagen = data_generator_basic()\n",
        "predict_generator = datagen.flow_from_directory( pred_dir, classes=['predict'], batch_size=1, class_mode=None, shuffle=False, target_size=(image_width, image_height))\n",
        "preds = model.predict_generator(predict_generator)\n",
        "\n",
        "# Create array of values to be predicted\n",
        "# The first character of the filename is the value to predict\n",
        "for idx, item in enumerate(predict_generator.filenames):\n",
        "  line = os.path.basename(item)\n",
        "  y = re.sub(r\"^(.)-.*$\", r\"\\1\", line)\n",
        "  ys.append(int(y))\n",
        "\n",
        "  y_pred = 0;\n",
        "  if(preds[idx][0] > 0.7):\n",
        "        y_pred = 1;\n",
        "  y_preds.append(y_pred)\n",
        "  #print(f\"{os.path.basename(item):70} {preds[idx][0]:<20} {y_pred}\")"
      ],
      "execution_count": 37,
      "outputs": [
        {
          "output_type": "stream",
          "text": [
            "Found 31 images belonging to 1 classes.\n"
          ],
          "name": "stdout"
        }
      ]
    },
    {
      "cell_type": "code",
      "metadata": {
        "id": "fHQEK7L95okT",
        "colab_type": "code",
        "colab": {
          "base_uri": "https://localhost:8080/",
          "height": 324
        },
        "outputId": "4f891fad-9de2-467d-e2ea-5e77d386f3bb"
      },
      "source": [
        "# Show confusion matrix\n",
        "labels = [0, 1]\n",
        "cm = confusion_matrix(ys, y_preds, labels)\n",
        "print(cm)\n",
        "fig = plt.figure()\n",
        "ax = fig.add_subplot(111)\n",
        "cax = ax.matshow(cm)\n",
        "plt.title('Confusion matrix of the classifier')\n",
        "fig.colorbar(cax)\n",
        "ax.set_xticklabels([''] + labels)\n",
        "ax.set_yticklabels([''] + labels)\n",
        "plt.xlabel('Predicted')\n",
        "plt.ylabel('True')\n",
        "plt.show()"
      ],
      "execution_count": 38,
      "outputs": [
        {
          "output_type": "stream",
          "text": [
            "[[12  3]\n",
            " [ 1 15]]\n"
          ],
          "name": "stdout"
        },
        {
          "output_type": "display_data",
          "data": {
            "image/png": "[encoded data removed]",
            "text/plain": [
              "<Figure size 432x288 with 2 Axes>"
            ]
          },
          "metadata": {
            "tags": [],
            "needs_background": "light"
          }
        }
      ]
    },
    {
      "cell_type": "code",
      "metadata": {
        "id": "XdkEmMiv57wx",
        "colab_type": "code",
        "colab": {
          "base_uri": "https://localhost:8080/",
          "height": 208
        },
        "outputId": "848128d8-4c45-43ce-fae3-bf605a77cb7f"
      },
      "source": [
        "print(confusion_matrix(ys, y_preds))\n",
        "print(classification_report(ys, y_preds))"
      ],
      "execution_count": 39,
      "outputs": [
        {
          "output_type": "stream",
          "text": [
            "[[12  3]\n",
            " [ 1 15]]\n",
            "              precision    recall  f1-score   support\n",
            "\n",
            "           0       0.92      0.80      0.86        15\n",
            "           1       0.83      0.94      0.88        16\n",
            "\n",
            "    accuracy                           0.87        31\n",
            "   macro avg       0.88      0.87      0.87        31\n",
            "weighted avg       0.88      0.87      0.87        31\n",
            "\n"
          ],
          "name": "stdout"
        }
      ]
    },
    {
      "cell_type": "code",
      "metadata": {
        "id": "NSY0MYmu6IyN",
        "colab_type": "code",
        "colab": {}
      },
      "source": [
        ""
      ],
      "execution_count": 0,
      "outputs": []
    }
  ]
}