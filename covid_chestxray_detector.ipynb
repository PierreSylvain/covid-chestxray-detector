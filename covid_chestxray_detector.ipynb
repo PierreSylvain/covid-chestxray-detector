{
  "nbformat": 4,
  "nbformat_minor": 0,
  "metadata": {
    "colab": {
      "name": "covid-chestxray-detector.ipynb",
      "provenance": [],
      "authorship_tag": "ABX9TyPrCUeu4BBs9go9sztX6VsM",
      "include_colab_link": true
    },
    "kernelspec": {
      "name": "python3",
      "display_name": "Python 3"
    },
    "accelerator": "GPU"
  },
  "cells": [
    {
      "cell_type": "markdown",
      "metadata": {
        "id": "view-in-github",
        "colab_type": "text"
      },
      "source": [
        "<a href=\"https://colab.research.google.com/github/PierreSylvain/covid-chestxray-detector/blob/master/covid_chestxray_detector.ipynb\" target=\"_parent\"><img src=\"https://colab.research.google.com/assets/colab-badge.svg\" alt=\"Open In Colab\"/></a>"
      ]
    },
    {
      "cell_type": "code",
      "metadata": {
        "id": "wldKi0o-vIlE",
        "colab_type": "code",
        "colab": {
          "base_uri": "https://localhost:8080/",
          "height": 34
        },
        "outputId": "98718b47-122d-4489-ad58-24782c5a4a1c"
      },
      "source": [
        "%tensorflow_version 2.x\n",
        "import tensorflow as tf\n",
        "device_name = tf.test.gpu_device_name()\n",
        "if device_name != '/device:GPU:0':\n",
        "  raise SystemError('GPU device not found')\n",
        "print('Found GPU at: {}'.format(device_name))"
      ],
      "execution_count": 1,
      "outputs": [
        {
          "output_type": "stream",
          "text": [
            "Found GPU at: /device:GPU:0\n"
          ],
          "name": "stdout"
        }
      ]
    },
    {
      "cell_type": "markdown",
      "metadata": {
        "id": "A-sPrQuIzRie",
        "colab_type": "text"
      },
      "source": [
        "# Load images"
      ]
    },
    {
      "cell_type": "code",
      "metadata": {
        "id": "p_JlabOuvYaj",
        "colab_type": "code",
        "colab": {
          "base_uri": "https://localhost:8080/",
          "height": 225
        },
        "outputId": "ce7433b2-ebce-47ac-9357-04695620617e"
      },
      "source": [
        "# Load zipped  images directory and decompress into data folder\n",
        "!wget https://filedn.com/lvsbt6znCCkhw76TPAmL9PL/data.zip\n",
        "!unzip -q -o /content/data.zip\n",
        "!ls /content/data/train "
      ],
      "execution_count": 2,
      "outputs": [
        {
          "output_type": "stream",
          "text": [
            "--2020-05-30 08:46:07--  https://filedn.com/lvsbt6znCCkhw76TPAmL9PL/data.zip\n",
            "Resolving filedn.com (filedn.com)... 74.120.9.25\n",
            "Connecting to filedn.com (filedn.com)|74.120.9.25|:443... connected.\n",
            "HTTP request sent, awaiting response... 200 OK\n",
            "Length: 166593773 (159M) [application/zip]\n",
            "Saving to: ‘data.zip’\n",
            "\n",
            "data.zip            100%[===================>] 158.88M  44.9MB/s    in 6.5s    \n",
            "\n",
            "2020-05-30 08:46:14 (24.5 MB/s) - ‘data.zip’ saved [166593773/166593773]\n",
            "\n",
            "0_normal  1_covid\n"
          ],
          "name": "stdout"
        }
      ]
    },
    {
      "cell_type": "markdown",
      "metadata": {
        "id": "-6xAzBACzXpd",
        "colab_type": "text"
      },
      "source": [
        "# Load libraries"
      ]
    },
    {
      "cell_type": "code",
      "metadata": {
        "id": "69djlfDPwmn4",
        "colab_type": "code",
        "colab": {}
      },
      "source": [
        "# Load libraries\n",
        "import numpy as np \n",
        "import pandas as pd \n",
        "import matplotlib.pyplot as plt\n",
        "#import random\n",
        "\n",
        "# Keras\n",
        "#import keras\n",
        "#from keras.utils import to_categorical\n",
        "#from keras.models import Sequential\n",
        "\n",
        "#from keras.layers import Conv2D\n",
        "#from keras.layers import MaxPooling2D\n",
        "from keras.layers import Dense\n",
        "#from keras.layers import Activation\n",
        "from keras.layers import Flatten\n",
        "#from keras.layers import MaxPool2D\n",
        "#from keras.layers import Dense, GlobalAveragePooling2D\n",
        "from keras.layers import AveragePooling2D\n",
        "from keras.layers import Dropout\n",
        "\n",
        "\n",
        "from keras.optimizers import SGD\n",
        "#from keras.optimizers import Adam\n",
        "\n",
        "from keras.preprocessing.image import ImageDataGenerator\n",
        "\n",
        "from keras.models import Model\n",
        "#from keras.applications.vgg16 import VGG16\n",
        "from keras.applications.vgg19 import VGG19\n",
        "#from tensorflow.keras.applications.inception_v3 import InceptionV3\n",
        "\n",
        "#from keras.callbacks import ModelCheckpoint, EarlyStopping\n",
        "\n",
        "import warnings\n",
        "warnings.filterwarnings('ignore')\n"
      ],
      "execution_count": 0,
      "outputs": []
    },
    {
      "cell_type": "markdown",
      "metadata": {
        "id": "fvHnJeFjzdxc",
        "colab_type": "text"
      },
      "source": [
        "# Create model"
      ]
    },
    {
      "cell_type": "code",
      "metadata": {
        "id": "jDtAEs3bw2K0",
        "colab_type": "code",
        "colab": {}
      },
      "source": [
        "# Create data generator\n",
        "# One for train data and other for val and test\n",
        "def data_generator():\n",
        "  datagen = ImageDataGenerator(\n",
        "    rescale= 1 / 255.0,\n",
        "    rotation_range=15,\n",
        "    zoom_range=0.05,\n",
        "    width_shift_range=0.1,\n",
        "    height_shift_range=0.1,\n",
        "    shear_range=0.05,\n",
        "    fill_mode=\"nearest\")  \n",
        "  return  datagen\n",
        "\n",
        "def data_generator_basic():\n",
        "  datagen = ImageDataGenerator(rescale= 1 / 255.0)  \n",
        "  return  datagen "
      ],
      "execution_count": 0,
      "outputs": []
    },
    {
      "cell_type": "code",
      "metadata": {
        "id": "68A1BmUmxECJ",
        "colab_type": "code",
        "colab": {}
      },
      "source": [
        "# VGG19 Model\n",
        "def vgg_model(image_width, image_height):\n",
        "  vgg_model = VGG19(include_top=False, input_shape=(image_width, image_height, 3))\n",
        "  \n",
        "  for layer in vgg_model.layers[:-3]:\n",
        "    layer.trainable = False\n",
        "\n",
        "  avg = AveragePooling2D(pool_size=(4, 4))(vgg_model.layers[-1].output)\n",
        "  flat1 = Flatten()(avg)\n",
        "  \n",
        "  class1 = Dense(128, activation='relu', kernel_initializer='he_uniform')(flat1) \n",
        "  dropout1 = Dropout(0.5)(class1)  \n",
        "  \n",
        "  output = Dense(1, activation='sigmoid')(dropout1)\n",
        "  \n",
        "  model = Model(inputs=vgg_model.inputs, outputs=output)\n",
        "  opt = SGD(lr=0.001, momentum=0.9)  \n",
        "  model.compile(optimizer=opt, loss='binary_crossentropy', metrics=['accuracy'])\n",
        "\n",
        "  #model.summary()\n",
        "  return model"
      ],
      "execution_count": 0,
      "outputs": []
    },
    {
      "cell_type": "markdown",
      "metadata": {
        "id": "1qF5vriMzkpP",
        "colab_type": "text"
      },
      "source": [
        "# Train model"
      ]
    },
    {
      "cell_type": "code",
      "metadata": {
        "id": "mD1aSEWYxV5T",
        "colab_type": "code",
        "colab": {
          "base_uri": "https://localhost:8080/",
          "height": 260
        },
        "outputId": "0e96d9ca-f43f-49cd-e264-af3d87691a74"
      },
      "source": [
        "# Train model\n",
        "nb_epochs = 5\n",
        "image_width = 320\n",
        "image_height = 382\n",
        "train_dir = \"/content/data/train\"\n",
        "test_dir = \"/content/data/test\"\n",
        "\n",
        "model = vgg_model(image_width,image_height)\n",
        "\n",
        "datagen = data_generator()\n",
        "datagen_basic = data_generator_basic()\n",
        "\n",
        "# Prepare\n",
        "train = datagen.flow_from_directory(train_dir, class_mode='binary', batch_size=64, target_size=(image_width, image_height))\n",
        "val = datagen_basic.flow_from_directory( test_dir,  class_mode='binary', batch_size=64, target_size=(image_width, image_height))\n",
        "\n",
        "# Train model\n",
        "history = model.fit_generator(\n",
        "    train, \n",
        "    steps_per_epoch=len(train), \n",
        "    validation_data=val, \n",
        "    validation_steps=len(val), \n",
        "    epochs=nb_epochs,    \n",
        "    verbose=1)\n",
        "\n",
        "# Save model \n",
        "model.save('VGG-covid19.h5')\n",
        "\n",
        "# Evaluate\n",
        "_, acc = model.evaluate_generator(val, steps=len(val), verbose=1)\n",
        "print('Model accuracy %.3f' % (acc * 100.0))\n"
      ],
      "execution_count": 22,
      "outputs": [
        {
          "output_type": "stream",
          "text": [
            "Found 216 images belonging to 2 classes.\n",
            "Found 55 images belonging to 2 classes.\n",
            "Epoch 1/5\n",
            "4/4 [==============================] - 18s 4s/step - loss: 0.7405 - accuracy: 0.5741 - val_loss: 0.6585 - val_accuracy: 0.6727\n",
            "Epoch 2/5\n",
            "4/4 [==============================] - 11s 3s/step - loss: 0.7587 - accuracy: 0.5463 - val_loss: 0.6356 - val_accuracy: 0.7091\n",
            "Epoch 3/5\n",
            "4/4 [==============================] - 12s 3s/step - loss: 0.7168 - accuracy: 0.5926 - val_loss: 0.6460 - val_accuracy: 0.7273\n",
            "Epoch 4/5\n",
            "4/4 [==============================] - 12s 3s/step - loss: 0.6659 - accuracy: 0.6296 - val_loss: 0.5743 - val_accuracy: 0.7273\n",
            "Epoch 5/5\n",
            "4/4 [==============================] - 12s 3s/step - loss: 0.6154 - accuracy: 0.7037 - val_loss: 0.5471 - val_accuracy: 0.8000\n",
            "1/1 [==============================] - 5s 5s/step\n",
            "Model accuracy 80.000\n"
          ],
          "name": "stdout"
        }
      ]
    },
    {
      "cell_type": "code",
      "metadata": {
        "id": "jeXJmBEcx5xs",
        "colab_type": "code",
        "colab": {
          "base_uri": "https://localhost:8080/",
          "height": 295
        },
        "outputId": "efcb96ce-25a4-4774-831a-fd70678d9ea0"
      },
      "source": [
        "# Training Loss and Accuracy on COVID-19 Dataset\n",
        "plt.figure()\n",
        "plt.plot(np.arange(0, nb_epochs), history.history[\"loss\"], label=\"train_loss\")\n",
        "plt.plot(np.arange(0, nb_epochs), history.history[\"val_loss\"], label=\"val_loss\")\n",
        "plt.plot(np.arange(0, nb_epochs), history.history[\"accuracy\"], label=\"train_accuracy\")\n",
        "plt.plot(np.arange(0, nb_epochs), history.history[\"val_accuracy\"], label=\"val_accuracy\")\n",
        "plt.title(\"Training Loss and Accuracy on COVID-19 Dataset\")\n",
        "plt.xlabel(\"Epoch #\")\n",
        "plt.ylabel(\"Loss/Accuracy\")\n",
        "plt.legend(loc=\"lower left\")\n",
        "plt.show()"
      ],
      "execution_count": 25,
      "outputs": [
        {
          "output_type": "display_data",
          "data": {
            "image/png": "[encoded data removed]",
            "text/plain": [
              "<Figure size 432x288 with 1 Axes>"
            ]
          },
          "metadata": {
            "tags": [],
            "needs_background": "light"
          }
        }
      ]
    }
  ]
}